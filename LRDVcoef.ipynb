{
 "cells": [
  {
   "cell_type": "code",
   "execution_count": 1,
   "metadata": {},
   "outputs": [],
   "source": [
    "import numpy as np\n",
    "from sklearn.linear_model import LinearRegression"
   ]
  },
  {
   "cell_type": "markdown",
   "metadata": {},
   "source": [
    "# Оценки коэффициентов линейной регрессии 𝐷 на 𝑉"
   ]
  },
  {
   "cell_type": "code",
   "execution_count": 2,
   "metadata": {},
   "outputs": [],
   "source": [
    "V=np.array([60,50,75])\n",
    "D=np.array([10,7,12])"
   ]
  },
  {
   "cell_type": "code",
   "execution_count": 15,
   "metadata": {},
   "outputs": [
    {
     "name": "stdout",
     "output_type": "stream",
     "text": [
      "[-2.34210526  0.19473684]\n"
     ]
    }
   ],
   "source": [
    "# Способ 1\n",
    "A = np.vstack([np.ones(len(V)), V]).T\n",
    "print(np.linalg.lstsq(A, D, rcond=None)[0])"
   ]
  },
  {
   "cell_type": "code",
   "execution_count": 10,
   "metadata": {},
   "outputs": [
    {
     "name": "stdout",
     "output_type": "stream",
     "text": [
      "-2.342105263157894 [0.19473684]\n"
     ]
    }
   ],
   "source": [
    "# Способ 2\n",
    "A = np.array([60, 50, 75]).reshape(-1, 1)\n",
    "model = LinearRegression().fit(A, D)\n",
    "print(model.intercept_, model.coef_)"
   ]
  },
  {
   "cell_type": "code",
   "execution_count": 17,
   "metadata": {},
   "outputs": [
    {
     "name": "stdout",
     "output_type": "stream",
     "text": [
      "-2.342105263157892 0.19473684210526312\n"
     ]
    }
   ],
   "source": [
    "# Способ 3\n",
    "from scipy import stats\n",
    "V = [60,50,75]\n",
    "D = [10,7,12]\n",
    "print(stats.linregress(V,D)[1], stats.linregress(V,D)[0])"
   ]
  },
  {
   "cell_type": "code",
   "execution_count": null,
   "metadata": {},
   "outputs": [],
   "source": []
  }
 ],
 "metadata": {
  "kernelspec": {
   "display_name": "Python 3",
   "language": "python",
   "name": "python3"
  },
  "language_info": {
   "codemirror_mode": {
    "name": "ipython",
    "version": 3
   },
   "file_extension": ".py",
   "mimetype": "text/x-python",
   "name": "python",
   "nbconvert_exporter": "python",
   "pygments_lexer": "ipython3",
   "version": "3.7.4"
  }
 },
 "nbformat": 4,
 "nbformat_minor": 2
}
