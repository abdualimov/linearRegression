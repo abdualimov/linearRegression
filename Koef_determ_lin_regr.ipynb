{
 "cells": [
  {
   "cell_type": "code",
   "execution_count": 1,
   "metadata": {},
   "outputs": [
    {
     "name": "stdout",
     "output_type": "stream",
     "text": [
      "Populating the interactive namespace from numpy and matplotlib\n"
     ]
    }
   ],
   "source": [
    "# импорт библиотек и датасета\n",
    "%pylab inline\n",
    "import numpy as np\n",
    "import pandas as pd\n",
    "import math as mt\n",
    "import matplotlib.pyplot as plt\n",
    "from sklearn.model_selection import train_test_split\n",
    "from sklearn import datasets\n",
    "from sklearn.linear_model import LinearRegression\n",
    "from sklearn.metrics import r2_score"
   ]
  },
  {
   "cell_type": "code",
   "execution_count": 2,
   "metadata": {},
   "outputs": [],
   "source": [
    "boston_train = pd.read_csv('boston_train.csv')\n",
    "boston_test = pd.read_csv('boston_test.csv')"
   ]
  },
  {
   "cell_type": "code",
   "execution_count": 4,
   "metadata": {},
   "outputs": [
    {
     "data": {
      "text/html": [
       "<div>\n",
       "<style scoped>\n",
       "    .dataframe tbody tr th:only-of-type {\n",
       "        vertical-align: middle;\n",
       "    }\n",
       "\n",
       "    .dataframe tbody tr th {\n",
       "        vertical-align: top;\n",
       "    }\n",
       "\n",
       "    .dataframe thead th {\n",
       "        text-align: right;\n",
       "    }\n",
       "</style>\n",
       "<table border=\"1\" class=\"dataframe\">\n",
       "  <thead>\n",
       "    <tr style=\"text-align: right;\">\n",
       "      <th></th>\n",
       "      <th>Unnamed: 0</th>\n",
       "      <th>CRIM</th>\n",
       "      <th>ZN</th>\n",
       "      <th>INDUS</th>\n",
       "      <th>CHAS</th>\n",
       "      <th>NOX</th>\n",
       "      <th>RM</th>\n",
       "      <th>AGE</th>\n",
       "      <th>DIS</th>\n",
       "      <th>RAD</th>\n",
       "      <th>TAX</th>\n",
       "      <th>PTRATIO</th>\n",
       "      <th>B</th>\n",
       "      <th>LSTAT</th>\n",
       "      <th>PRICE</th>\n",
       "    </tr>\n",
       "  </thead>\n",
       "  <tbody>\n",
       "    <tr>\n",
       "      <td>0</td>\n",
       "      <td>119</td>\n",
       "      <td>0.14476</td>\n",
       "      <td>0.0</td>\n",
       "      <td>10.01</td>\n",
       "      <td>0.0</td>\n",
       "      <td>0.547</td>\n",
       "      <td>5.731</td>\n",
       "      <td>65.2</td>\n",
       "      <td>2.7592</td>\n",
       "      <td>6.0</td>\n",
       "      <td>432.0</td>\n",
       "      <td>17.8</td>\n",
       "      <td>391.5</td>\n",
       "      <td>13.61</td>\n",
       "      <td>19.3</td>\n",
       "    </tr>\n",
       "  </tbody>\n",
       "</table>\n",
       "</div>"
      ],
      "text/plain": [
       "   Unnamed: 0     CRIM   ZN  INDUS  CHAS    NOX     RM   AGE     DIS  RAD  \\\n",
       "0         119  0.14476  0.0  10.01   0.0  0.547  5.731  65.2  2.7592  6.0   \n",
       "\n",
       "     TAX  PTRATIO      B  LSTAT  PRICE  \n",
       "0  432.0     17.8  391.5  13.61   19.3  "
      ]
     },
     "execution_count": 4,
     "metadata": {},
     "output_type": "execute_result"
    }
   ],
   "source": [
    "boston_train.head(1)"
   ]
  },
  {
   "cell_type": "code",
   "execution_count": 8,
   "metadata": {},
   "outputs": [],
   "source": [
    "cel_per_train = boston_train['PRICE']\n",
    "cel_per_test = boston_test['PRICE']"
   ]
  },
  {
   "cell_type": "code",
   "execution_count": null,
   "metadata": {},
   "outputs": [],
   "source": []
  },
  {
   "cell_type": "code",
   "execution_count": 9,
   "metadata": {},
   "outputs": [],
   "source": [
    "def regscores(factors, boston_train, boston_test):\n",
    "    \n",
    "    # данные, на которых будет обучаться и тестироваться модель\n",
    "    Data_train = boston_train[factors]\n",
    "    Data_test = boston_test[factors]\n",
    "    \n",
    "    k = len(factors) # количество признаков (без константы)\n",
    "    N_train = Data_train.shape[0] # размер обучающей выборки\n",
    "    N_test = Data_test.shape[0] # размер тестовой вбыорки\n",
    "    \n",
    "    # обучим регрессию и интерсептом на тренировочной выборке\n",
    "    # параметр fit_intercept =True можно не указывать, он установлен по умолчанию\n",
    "    reg = LinearRegression(fit_intercept =True).fit(Data_train, cel_per_train)\n",
    "\n",
    "    # сделаем пердсказания на обучающей и тестовой выборках\n",
    "    y_train_pred = reg.predict(Data_train)\n",
    "    y_test_pred = reg.predict(Data_test)\n",
    "    \n",
    "    # создадим выходной вектор, в который будем записывать результат\n",
    "    r2 = np.zeros(4)\n",
    "    \n",
    "    # R-squared для тренировочной выборки\n",
    "    # (можно использовать reg.score, не импортируя отдельно r2_score)\n",
    "    r2[0] = r2_score(cel_per_train,y_train_pred)\n",
    "    # R-squared adjusted для тренировочной выборки\n",
    "    r2[1] = 1 - (1 - r2[0])*(N_train-1)/(N_train-k)\n",
    "    \n",
    "    # R-squared для тестовой выборки\n",
    "    r2[2] = r2_score(cel_per_test,y_test_pred)\n",
    "    # R-squared adjusted для тестовой выборки\n",
    "    r2[3] = 1 - (1 - r2[2])*(N_test-1)/(N_test-k)\n",
    "    \n",
    "\n",
    "    \n",
    "    return r2"
   ]
  },
  {
   "cell_type": "code",
   "execution_count": 11,
   "metadata": {},
   "outputs": [
    {
     "name": "stdout",
     "output_type": "stream",
     "text": [
      "Модель с 2 факторами\n",
      "R-squared для тренировочной выборки =  0.5428462871743152\n",
      "R-squared adj для тренировочной выборки =  0.5418371178303292\n",
      "R-squared для тестовой выборки =  0.5586456733224683\n",
      "R-squared adj для тестовой выборки =  0.549638442165784\n"
     ]
    }
   ],
   "source": [
    "print('Модель с 2 факторами')\n",
    "list_col=['LSTAT', 'NOX']\n",
    "R2 = regscores(list_col, boston_train, boston_test)\n",
    "print('R-squared для тренировочной выборки = ', R2[0])\n",
    "print('R-squared adj для тренировочной выборки = ', R2[1])\n",
    "print('R-squared для тестовой выборки = ', R2[2])\n",
    "print('R-squared adj для тестовой выборки = ', R2[3])"
   ]
  },
  {
   "cell_type": "code",
   "execution_count": null,
   "metadata": {},
   "outputs": [],
   "source": []
  }
 ],
 "metadata": {
  "kernelspec": {
   "display_name": "Python 3",
   "language": "python",
   "name": "python3"
  },
  "language_info": {
   "codemirror_mode": {
    "name": "ipython",
    "version": 3
   },
   "file_extension": ".py",
   "mimetype": "text/x-python",
   "name": "python",
   "nbconvert_exporter": "python",
   "pygments_lexer": "ipython3",
   "version": "3.7.4"
  }
 },
 "nbformat": 4,
 "nbformat_minor": 2
}
